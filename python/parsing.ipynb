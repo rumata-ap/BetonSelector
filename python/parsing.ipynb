{
 "metadata": {
  "language_info": {
   "codemirror_mode": {
    "name": "ipython",
    "version": 3
   },
   "file_extension": ".py",
   "mimetype": "text/x-python",
   "name": "python",
   "nbconvert_exporter": "python",
   "pygments_lexer": "ipython3",
   "version": "3.8.5-final"
  },
  "orig_nbformat": 2,
  "kernelspec": {
   "name": "python_defaultSpec_1600755948819",
   "display_name": "Python 3.8.5 64-bit"
  }
 },
 "nbformat": 4,
 "nbformat_minor": 2,
 "cells": [
  {
   "cell_type": "code",
   "execution_count": 1,
   "metadata": {},
   "outputs": [],
   "source": [
    "import xml.etree.ElementTree as etree"
   ]
  },
  {
   "cell_type": "code",
   "execution_count": 2,
   "metadata": {},
   "outputs": [],
   "source": [
    "tree = etree.parse('ConcretesSP63.xml')"
   ]
  },
  {
   "cell_type": "code",
   "execution_count": 3,
   "metadata": {},
   "outputs": [],
   "source": [
    "all_links = tree.findall('Type')"
   ]
  },
  {
   "cell_type": "code",
   "execution_count": 4,
   "metadata": {
    "tags": []
   },
   "outputs": [
    {
     "output_type": "execute_result",
     "data": {
      "text/plain": "['Тяжелый', 'Мелкозернистый', 'Легкий и поризованный', 'Ячеистый']"
     },
     "metadata": {},
     "execution_count": 4
    }
   ],
   "source": [
    "#Выбор типов бетонов\n",
    "typesB=[]\n",
    "for typ in all_links:\n",
    "    typesB.append(typ.attrib['name'])\n",
    "\n",
    "typesB"
   ]
  },
  {
   "cell_type": "code",
   "execution_count": 5,
   "metadata": {},
   "outputs": [
    {
     "output_type": "execute_result",
     "data": {
      "text/plain": "'Мелкозернистый'"
     },
     "metadata": {},
     "execution_count": 5
    }
   ],
   "source": [
    "beton = all_links[0]\n",
    "for typ in all_links:\n",
    "    if typ.attrib['name'] == 'Мелкозернистый':\n",
    "        beton=typ\n",
    "\n",
    "beton.attrib['name']"
   ]
  },
  {
   "cell_type": "code",
   "execution_count": 6,
   "metadata": {
    "tags": []
   },
   "outputs": [
    {
     "output_type": "stream",
     "name": "stdout",
     "text": "А - естественного твердения\nБ - автоклавного твердения\n"
    }
   ],
   "source": [
    "groups=beton.findall('Group')\n",
    "for gr in groups:\n",
    "    print(gr.attrib['name'])"
   ]
  },
  {
   "cell_type": "code",
   "execution_count": 7,
   "metadata": {},
   "outputs": [
    {
     "output_type": "execute_result",
     "data": {
      "text/plain": "['B3.5',\n 'B5',\n 'B7.5',\n 'B10',\n 'B12.5',\n 'B15',\n 'B20',\n 'B25',\n 'B30',\n 'B35',\n 'B40']"
     },
     "metadata": {},
     "execution_count": 7
    }
   ],
   "source": [
    "group = groups[0]\n",
    "classes = group.find(\"Classes\")\n",
    "classes.attrib['vals'].split(',')"
   ]
  },
  {
   "cell_type": "code",
   "execution_count": 9,
   "metadata": {},
   "outputs": [
    {
     "output_type": "execute_result",
     "data": {
      "text/plain": "float"
     },
     "metadata": {},
     "execution_count": 9
    }
   ],
   "source": [
    "type(eval('2.56'))"
   ]
  },
  {
   "cell_type": "code",
   "execution_count": null,
   "metadata": {},
   "outputs": [],
   "source": []
  }
 ]
}