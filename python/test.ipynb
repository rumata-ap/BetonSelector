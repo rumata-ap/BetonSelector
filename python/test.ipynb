{
 "metadata": {
  "language_info": {
   "codemirror_mode": {
    "name": "ipython",
    "version": 3
   },
   "file_extension": ".py",
   "mimetype": "text/x-python",
   "name": "python",
   "nbconvert_exporter": "python",
   "pygments_lexer": "ipython3",
   "version": "3.8.5-final"
  },
  "orig_nbformat": 2,
  "kernelspec": {
   "name": "python_defaultSpec_1600690965982",
   "display_name": "Python 3.8.5 64-bit"
  }
 },
 "nbformat": 4,
 "nbformat_minor": 2,
 "cells": [
  {
   "cell_type": "code",
   "execution_count": 2,
   "metadata": {},
   "outputs": [],
   "source": [
    "import numpy as np"
   ]
  },
  {
   "cell_type": "code",
   "execution_count": 13,
   "metadata": {},
   "outputs": [],
   "source": [
    "l=['1.1', '2.6', '3.4', '4.1']\n",
    "ln = np.array(list(map(float,l)))*0.1"
   ]
  },
  {
   "cell_type": "code",
   "execution_count": 16,
   "metadata": {},
   "outputs": [
    {
     "output_type": "execute_result",
     "data": {
      "text/plain": "0.11000000000000001"
     },
     "metadata": {},
     "execution_count": 16
    }
   ],
   "source": [
    "ln = ln.reshape(2,2)\n",
    "ln[0,0]"
   ]
  },
  {
   "cell_type": "code",
   "execution_count": 1,
   "metadata": {},
   "outputs": [],
   "source": [
    "import csv\n",
    " \n",
    "FILENAME = \"users.csv\"\n",
    " \n",
    "users = [\n",
    "    [\"Tom\", 28],\n",
    "    [\"Alice\", 23],\n",
    "    [\"Bob\", 34]\n",
    "]\n",
    " \n",
    "with open(FILENAME, \"w\", newline=\"\") as file:\n",
    "    writer = csv.writer(file)\n",
    "    writer.writerows(users)\n",
    "     \n",
    " \n",
    "with open(FILENAME, \"a\", newline=\"\") as file:\n",
    "    user = [\"Sam\", 31]\n",
    "    writer = csv.writer(file)\n",
    "    writer.writerow(user)"
   ]
  },
  {
   "cell_type": "code",
   "execution_count": null,
   "metadata": {},
   "outputs": [],
   "source": []
  }
 ]
}